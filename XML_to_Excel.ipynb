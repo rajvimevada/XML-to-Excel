{
  "nbformat": 4,
  "nbformat_minor": 0,
  "metadata": {
    "colab": {
      "provenance": [],
      "authorship_tag": "ABX9TyPGSKdBD5qeNAYwKSCiRpBt",
      "include_colab_link": true
    },
    "kernelspec": {
      "name": "python3",
      "display_name": "Python 3"
    },
    "language_info": {
      "name": "python"
    }
  },
  "cells": [
    {
      "cell_type": "markdown",
      "metadata": {
        "id": "view-in-github",
        "colab_type": "text"
      },
      "source": [
        "<a href=\"https://colab.research.google.com/github/rajvimevada/XML-to-Excel/blob/main/XML_to_Excel.ipynb\" target=\"_parent\"><img src=\"https://colab.research.google.com/assets/colab-badge.svg\" alt=\"Open In Colab\"/></a>"
      ]
    },
    {
      "cell_type": "code",
      "source": [
        "import pandas as pd\n",
        "import xml.etree.ElementTree as ET\n",
        "\n",
        "def parse_timetable(xml_file):\n",
        "    tree = ET.parse(xml_file)\n",
        "    root = tree.getroot()\n",
        "\n",
        "    faculty_timetable = {}\n",
        "    class_timetable = {}\n",
        "\n",
        "    for teacher in root.findall(\"./teachers/teacher\"):\n",
        "        teacher_id = teacher.attrib.get(\"id\", \"\")\n",
        "        teacher_name = teacher.attrib.get(\"name\", \"\")\n",
        "        if teacher_id:\n",
        "            faculty_timetable[teacher_id] = []\n",
        "\n",
        "    for lesson in root.findall(\"./lessons/lesson\"):\n",
        "        teacher_ids = lesson.attrib.get(\"teacherids\", \"\").split()\n",
        "        classroom_ids = lesson.attrib.get(\"classroomids\", \"\").split()\n",
        "        subject_id = lesson.attrib.get(\"subjectid\", \"\")\n",
        "\n",
        "        if subject_id:\n",
        "            for teacher_id in teacher_ids:\n",
        "                if teacher_id:\n",
        "                    if teacher_id not in faculty_timetable:\n",
        "                        faculty_timetable[teacher_id] = []\n",
        "                    faculty_timetable[teacher_id].append(lesson.attrib)\n",
        "\n",
        "            for classroom_id in classroom_ids:\n",
        "                if classroom_id:\n",
        "                    if classroom_id not in class_timetable:\n",
        "                        class_timetable[classroom_id] = []\n",
        "                    class_timetable[classroom_id].append(lesson.attrib)\n",
        "\n",
        "\n",
        "    print(\"faculty_timetable:\")\n",
        "    for key, value in faculty_timetable.items():\n",
        "        print(key, value)\n",
        "\n",
        "\n",
        "    print(\"class_timetable:\")\n",
        "    for key, value in class_timetable.items():\n",
        "        print(key, value)\n",
        "\n",
        "    # Create Excel file\n",
        "#     excel_file = \"output.xlsx\"\n",
        "#     writer = pd.ExcelWriter(excel_file, engine=\"xlsxwriter\")\n",
        "\n",
        "    # Iterate over faculty timetable\n",
        "    for teacher_id, timetable in faculty_timetable.items():\n",
        "        if timetable:\n",
        "            teacher_element = root.find(f\"./teachers/teacher[@id='{teacher_id}']\")\n",
        "            teacher_name = teacher_element.attrib.get(\"name\", \"\") if teacher_element is not None else \"\"\n",
        "            df = pd.DataFrame(timetable)\n",
        "            #print(df)\n",
        "\n",
        "#             df.to_excel(writer, sheet_name=teacher_name, index=False)\n",
        "\n",
        "#     # Save and close the Excel file\n",
        "#     writer.save()\n",
        "#     writer.close()\n",
        "\n",
        "ifile = \"inputxmlFile.xml\"\n",
        "parse_timetable(ifile)\n"
      ],
      "metadata": {
        "id": "_Tl1Bb8TiCmr"
      },
      "execution_count": null,
      "outputs": []
    },
    {
      "cell_type": "code",
      "source": [],
      "metadata": {
        "id": "ehtoraHGkl8i"
      },
      "execution_count": null,
      "outputs": []
    },
    {
      "cell_type": "markdown",
      "source": [
        "**New Start**"
      ],
      "metadata": {
        "id": "mWzqkFOcX9cj"
      }
    },
    {
      "cell_type": "code",
      "source": [
        "import xml.etree.ElementTree as ET\n",
        "\n",
        "# Define the XML data class\n",
        "class XMLData:\n",
        "    def __init__(self):\n",
        "        self.periods = []\n",
        "        self.daysdefs = []\n",
        "        self.subjects = []\n",
        "        self.teachers = []\n",
        "        self.classrooms = []\n",
        "        self.classes = []\n",
        "        self.groups = []\n",
        "        self.lessons = []\n",
        "\n",
        "# Parse the XML file and populate the XMLData class\n",
        "def parse_xml(file_path):\n",
        "    xml_data = XMLData()\n",
        "    tree = ET.parse(file_path)\n",
        "    root = tree.getroot()\n",
        "\n",
        "    # Parse periods\n",
        "    for period_elem in root.findall(\"./periods/period\"):\n",
        "        period = {\n",
        "            \"name\": period_elem.get(\"name\"),\n",
        "            \"short\": period_elem.get(\"short\"),\n",
        "            \"starttime\": period_elem.get(\"starttime\"),\n",
        "            \"endtime\": period_elem.get(\"endtime\")\n",
        "        }\n",
        "        xml_data.periods.append(period)\n",
        "\n",
        "    # Parse daysdefs\n",
        "    for daysdef_elem in root.findall(\"./daysdefs/daysdef\"):\n",
        "        daysdef = {\n",
        "            \"id\": daysdef_elem.get(\"id\"),\n",
        "            \"name\": daysdef_elem.get(\"name\"),\n",
        "            \"short\": daysdef_elem.get(\"short\"),\n",
        "            \"days\": daysdef_elem.get(\"days\")\n",
        "        }\n",
        "        xml_data.daysdefs.append(daysdef)\n",
        "\n",
        "    # Parse subjects\n",
        "    for subject_elem in root.findall(\"./subjects/subject\"):\n",
        "        subject = {\n",
        "            \"id\": subject_elem.get(\"id\"),\n",
        "            \"name\": subject_elem.get(\"name\"),\n",
        "            \"short\": subject_elem.get(\"short\"),\n",
        "            \"partner_id\": subject_elem.get(\"partner_id\")\n",
        "        }\n",
        "        xml_data.subjects.append(subject)\n",
        "\n",
        "    # Parse teachers\n",
        "    for teacher_elem in root.findall(\"./teachers/teacher\"):\n",
        "        teacher = {\n",
        "            \"id\": teacher_elem.get(\"id\"),\n",
        "            \"name\": teacher_elem.get(\"name\"),\n",
        "            \"short\": teacher_elem.get(\"short\"),\n",
        "            \"gender\": teacher_elem.get(\"gender\"),\n",
        "            \"color\": teacher_elem.get(\"color\"),\n",
        "            \"email\": teacher_elem.get(\"email\"),\n",
        "            \"mobile\": teacher_elem.get(\"mobile\"),\n",
        "            \"partner_id\": teacher_elem.get(\"partner_id\"),\n",
        "            \"firstname\": teacher_elem.get(\"firstname\"),\n",
        "            \"lastname\": teacher_elem.get(\"lastname\")\n",
        "        }\n",
        "        xml_data.teachers.append(teacher)\n",
        "\n",
        "    # Parse classrooms\n",
        "    for classroom_elem in root.findall(\"./classrooms/classroom\"):\n",
        "        classroom = {\n",
        "            \"id\": classroom_elem.get(\"id\"),\n",
        "            \"name\": classroom_elem.get(\"name\"),\n",
        "            \"short\": classroom_elem.get(\"short\"),\n",
        "            \"capacity\": classroom_elem.get(\"capacity\"),\n",
        "            \"buildingid\": classroom_elem.get(\"buildingid\"),\n",
        "            \"partner_id\": classroom_elem.get(\"partner_id\")\n",
        "        }\n",
        "        xml_data.classrooms.append(classroom)\n",
        "\n",
        "    # Parse classes\n",
        "    for class_elem in root.findall(\"./classes/class\"):\n",
        "        class_data = {\n",
        "            \"id\": class_elem.get(\"id\"),\n",
        "            \"name\": class_elem.get(\"name\"),\n",
        "            \"short\": class_elem.get(\"short\"),\n",
        "            \"classroomids\": class_elem.get(\"classroomids\"),\n",
        "            \"teacherid\": class_elem.get(\"teacherid\"),\n",
        "            \"grade\": class_elem.get(\"grade\"),\n",
        "            \"partner_id\": class_elem.get(\"partner_id\")\n",
        "        }\n",
        "        xml_data.classes.append(class_data)\n",
        "\n",
        "    # Parse gropus\n",
        "    for group_elem in root.findall(\"./groups/group\"):\n",
        "        group_data = {\n",
        "            \"id\": group_elem.get(\"id\"),\n",
        "            \"name\": group_elem.get(\"name\"),\n",
        "            \"short\": group_elem.get(\"short\"),\n",
        "            \"classinfo\": group_elem.get(\"classid\")\n",
        "        }\n",
        "        xml_data.groups.append(group_data)\n",
        "\n",
        "    # Parse lessons\n",
        "    for lesson_elem in root.findall(\"./lessons/lesson\"):\n",
        "\n",
        "        lesson_data = {\n",
        "            \"id\": lesson_elem.get(\"id\"),\n",
        "            \"classid\": lesson_elem.get(\"classids\"),\n",
        "            \"subjectid\": lesson_elem.get(\"subjectid\"),\n",
        "            \"periodspercard\": lesson_elem.get(\" periodspercard\"),\n",
        "            \"periodsperweek\": lesson_elem.get(\"periodsperweek\"),\n",
        "            \"teacherids\": lesson_elem.get(\"teacherids\"),\n",
        "            \"classroomids\": lesson_elem.get(\"classroomids\"),\n",
        "            \"groupids\": lesson_elem.get(\"groupids\"),\n",
        "            \"termsdefid\": lesson_elem.get(\"termsdefid\"),\n",
        "            \"weeksdefid\": lesson_elem.get(\"weeksdefid\"),\n",
        "            \"daysdefid\": lesson_elem.get(\"daysdefid\"),\n",
        "            \"subjectid\": lesson_elem.get(\"subjectid\"),\n",
        "        }\n",
        "        xml_data.lessons.append(lesson_data)\n",
        "\n",
        "    return xml_data\n",
        "\n",
        "# Usage example\n",
        "xml_file_path = \"inputxmlFile.xml\"\n",
        "xml_data = parse_xml(xml_file_path)\n",
        "\n",
        "# Access the parsed data\n",
        "# Access the parsed data\n",
        "# print(\"Periods:\")\n",
        "# for period in xml_data.periods:\n",
        "#     print(f\"Name: {period['name']}, Short: {period['short']}, Start Time: {period['starttime']}, End Time: {period['endtime']}\")\n",
        "\n",
        "# print(\"\\nDays Definitions:\")\n",
        "# for daysdef in xml_data.daysdefs:\n",
        "#     print(f\"ID: {daysdef['id']}, Name: {daysdef['name']}, Short: {daysdef['short']}, Days: {daysdef['days']}\")\n",
        "\n",
        "# print(\"\\nSubjects:\")\n",
        "# for subject in xml_data.subjects:\n",
        "#     print(f\"ID: {subject['id']}, Name: {subject['name']}, Short: {subject['short']}, Partner ID: {subject['partner_id']}\")\n",
        "\n",
        "# print(\"\\nTeachers:\")\n",
        "# for teacher in xml_data.teachers:\n",
        "#     print(f\"ID: {teacher['id']}, Name: {teacher['name']}, Short: {teacher['short']}, Gender: {teacher['gender']}, Color: {teacher['color']}, Email: {teacher['email']}, Mobile: {teacher['mobile']}, Partner ID: {teacher['partner_id']}, First Name: {teacher['firstname']}, Last Name: {teacher['lastname']}\")\n",
        "\n",
        "# print(\"\\nClassrooms:\")\n",
        "# for classroom in xml_data.classrooms:\n",
        "#     print(f\"ID: {classroom['id']}, Name: {classroom['name']}, Short: {classroom['short']}, Capacity: {classroom['capacity']}, Building ID: {classroom['buildingid']}, Partner ID: {classroom['partner_id']}\")\n",
        "\n",
        "# print(\"\\nClasses:\")\n",
        "# for class_data in xml_data.classes:\n",
        "#     print(f\"ID: {class_data['id']}, Name: {class_data['name']}, Short: {class_data['short']}, Classroom IDs: {class_data['classroomids']}, Teacher ID: {class_data['teacherid']}, Grade: {class_data['grade']}, Partner ID: {class_data['partner_id']}\")\n",
        "\n",
        "# print(\"\\nGroups:\")\n",
        "# for group_data in xml_data.groups:\n",
        "#     print(f\"ID: {group_data['id']}, Name: {group_data['name']}, Short: {group_data['short']}, Classinfo: {group_data['classinfo']}\")\n",
        "\n",
        "# print(\"\\nlessons:\")\n",
        "# for lesson_data in xml_data.lessons:\n",
        "#     print(lesson_data)\n",
        "#     print(f\"ID: {lesson_data['id']}, classid: {lesson_data['classid']}, subjectid: {lesson_data['subjectid']}, periodspercard: {lesson_data['periodspercard']}, teacherids: {lesson_data['teacherids']}, classroomids: {lesson_data['classroomids']}, groupids: {lesson_data['groupids']}, termsdefid: {lesson_data['termsdefid']}, weeksdefid: {lesson_data['weeksdefid']}, daysdefid: {lesson_data['daysdefid']}, subjectid: {lesson_data['subjectid']}\")\n",
        "\n"
      ],
      "metadata": {
        "id": "kReZ6oEPkl-t"
      },
      "execution_count": null,
      "outputs": []
    },
    {
      "cell_type": "code",
      "source": [],
      "metadata": {
        "id": "Vbcj6T4CkmBx"
      },
      "execution_count": null,
      "outputs": []
    },
    {
      "cell_type": "code",
      "source": [
        "import pandas as pd"
      ],
      "metadata": {
        "id": "cnAHQyfFYvas"
      },
      "execution_count": null,
      "outputs": []
    },
    {
      "cell_type": "code",
      "source": [
        "periods = pd.DataFrame(xml_data.periods)\n",
        "periods"
      ],
      "metadata": {
        "id": "x-yPqhHZawan"
      },
      "execution_count": null,
      "outputs": []
    },
    {
      "cell_type": "code",
      "source": [],
      "metadata": {
        "id": "6uKSKCzgawYz"
      },
      "execution_count": null,
      "outputs": []
    },
    {
      "cell_type": "code",
      "source": [
        "daysdefs = pd.DataFrame(xml_data.daysdefs)\n",
        "daysdefs"
      ],
      "metadata": {
        "id": "IrZuuBidawU1"
      },
      "execution_count": null,
      "outputs": []
    },
    {
      "cell_type": "code",
      "source": [
        "daysdefs=daysdefs.rename(columns={\n",
        "                \"id\": \"daysdefid\",\n",
        "                \"name\": \"daysdefname\"\n",
        "            })\n",
        "daysdefs"
      ],
      "metadata": {
        "id": "qYsOs8vMawRX"
      },
      "execution_count": null,
      "outputs": []
    },
    {
      "cell_type": "code",
      "source": [],
      "metadata": {
        "id": "huG6CEceawPT"
      },
      "execution_count": null,
      "outputs": []
    },
    {
      "cell_type": "code",
      "source": [
        "subjects=pd.DataFrame(xml_data.subjects)\n",
        "subjects"
      ],
      "metadata": {
        "id": "1ihBhG1rkmEa"
      },
      "execution_count": null,
      "outputs": []
    },
    {
      "cell_type": "code",
      "source": [
        "subjects=subjects.rename(columns={\n",
        "                \"id\": \"subjectid\",\n",
        "                \"name\": \"subjectname\"\n",
        "            })\n",
        "subjects"
      ],
      "metadata": {
        "id": "b1SSCiHEkmG6"
      },
      "execution_count": null,
      "outputs": []
    },
    {
      "cell_type": "code",
      "source": [],
      "metadata": {
        "id": "OyWE4zsykmIe"
      },
      "execution_count": null,
      "outputs": []
    },
    {
      "cell_type": "code",
      "source": [
        "teachers=pd.DataFrame(xml_data.teachers)\n",
        "teachers"
      ],
      "metadata": {
        "id": "cCPmN4yfY9sJ"
      },
      "execution_count": null,
      "outputs": []
    },
    {
      "cell_type": "code",
      "source": [
        "teachers = teachers.rename(columns={\n",
        "                \"id\": \"teacherids\",\n",
        "                \"name\": \"teachername\"\n",
        "            })\n",
        "teachers"
      ],
      "metadata": {
        "id": "_-UT4Jy3Y9u6"
      },
      "execution_count": null,
      "outputs": []
    },
    {
      "cell_type": "code",
      "source": [],
      "metadata": {
        "id": "0784utgAY9w3"
      },
      "execution_count": null,
      "outputs": []
    },
    {
      "cell_type": "code",
      "source": [
        "classrooms=pd.DataFrame(xml_data.classrooms)\n",
        "classrooms"
      ],
      "metadata": {
        "id": "iP1Ca1YqY9yg"
      },
      "execution_count": null,
      "outputs": []
    },
    {
      "cell_type": "code",
      "source": [
        "classrooms = classrooms.rename(columns={\n",
        "                \"id\": \"classroomids\",\n",
        "                \"name\": \"classroomname\"\n",
        "            })\n",
        "classrooms"
      ],
      "metadata": {
        "id": "GPdDtAkaZ_F7"
      },
      "execution_count": null,
      "outputs": []
    },
    {
      "cell_type": "code",
      "source": [],
      "metadata": {
        "id": "gCbkoFC5Z_Ik"
      },
      "execution_count": null,
      "outputs": []
    },
    {
      "cell_type": "code",
      "source": [
        "classes=pd.DataFrame(xml_data.classes)\n",
        "classes"
      ],
      "metadata": {
        "id": "z9uJcqC4Z_L9"
      },
      "execution_count": null,
      "outputs": []
    },
    {
      "cell_type": "code",
      "source": [
        "classes = classes.rename(columns={\n",
        "                \"id\": \"classid\",\n",
        "                \"name\": \"classname\"\n",
        "            })\n",
        "classes"
      ],
      "metadata": {
        "id": "ZbALsMgPZ_OA"
      },
      "execution_count": null,
      "outputs": []
    },
    {
      "cell_type": "code",
      "source": [],
      "metadata": {
        "id": "t4FRZ7aYZ_Qg"
      },
      "execution_count": null,
      "outputs": []
    },
    {
      "cell_type": "code",
      "source": [
        "groups=pd.DataFrame(xml_data.groups)\n",
        "groups"
      ],
      "metadata": {
        "id": "Rz9JiG--bMj4"
      },
      "execution_count": null,
      "outputs": []
    },
    {
      "cell_type": "code",
      "source": [
        "groups = groups.rename(columns={\n",
        "                \"id\": \"groupids\",\n",
        "                \"name\": \"groupname\"\n",
        "            })\n",
        "groups"
      ],
      "metadata": {
        "id": "dXyjV1KnbMh4"
      },
      "execution_count": null,
      "outputs": []
    },
    {
      "cell_type": "code",
      "source": [],
      "metadata": {
        "id": "nPCYouvObMfF"
      },
      "execution_count": null,
      "outputs": []
    },
    {
      "cell_type": "code",
      "source": [
        "lessons=pd.DataFrame(xml_data.lessons)\n",
        "lessons"
      ],
      "metadata": {
        "id": "NGy-fcy_Z_SO"
      },
      "execution_count": null,
      "outputs": []
    },
    {
      "cell_type": "code",
      "source": [
        "lessons = lessons.rename(columns={\n",
        "                \"id\": \"lessonid\"\n",
        "            })\n",
        "lessons"
      ],
      "metadata": {
        "id": "pd6cMA4VZ_U5"
      },
      "execution_count": null,
      "outputs": []
    },
    {
      "cell_type": "code",
      "source": [],
      "metadata": {
        "id": "d3Suv7g-Z_W4"
      },
      "execution_count": null,
      "outputs": []
    },
    {
      "cell_type": "code",
      "source": [
        "lesson_subject=lessons.merge(subjects, on='subjectid', how='outer')\n",
        "lesson_subject"
      ],
      "metadata": {
        "id": "gdGGXNM3Z_aR"
      },
      "execution_count": null,
      "outputs": []
    },
    {
      "cell_type": "code",
      "source": [],
      "metadata": {
        "id": "4Qn48lywZ_f8"
      },
      "execution_count": null,
      "outputs": []
    },
    {
      "cell_type": "code",
      "source": [
        "lesson_subject_teacher=lesson_subject.merge(teachers, on='teacherids', how='outer')\n",
        "lesson_subject_teacher"
      ],
      "metadata": {
        "id": "L-C9zVI_Z_ke"
      },
      "execution_count": null,
      "outputs": []
    },
    {
      "cell_type": "code",
      "source": [
        "lesson_subject_teacher_daysdef=lesson_subject_teacher.merge(daysdefs, on='daysdefid', how='outer')\n",
        "lesson_subject_teacher_daysdef.columns"
      ],
      "metadata": {
        "id": "UBZ9kWTCZ_mp"
      },
      "execution_count": null,
      "outputs": []
    },
    {
      "cell_type": "code",
      "source": [
        "lesson_subject_teacher_daysdef_classroom=lesson_subject_teacher_daysdef.merge(classrooms, on='classroomids', how='outer')\n",
        "lesson_subject_teacher_daysdef_classroom.columns"
      ],
      "metadata": {
        "id": "25Olwj1pZ_qu"
      },
      "execution_count": null,
      "outputs": []
    },
    {
      "cell_type": "code",
      "source": [
        "lesson_subject_teacher_daysdef_classroom_class=lesson_subject_teacher_daysdef_classroom.merge(classes, on='classid', how='outer')\n",
        "lesson_subject_teacher_daysdef_classroom_class.columns"
      ],
      "metadata": {
        "id": "X-JSMpcDWdh2"
      },
      "execution_count": null,
      "outputs": []
    },
    {
      "cell_type": "code",
      "source": [
        "lesson_subject_teacher_daysdef_classroom_class_group=lesson_subject_teacher_daysdef_classroom_class.merge(groups, on='groupids', how='outer')\n",
        "lesson_subject_teacher_daysdef_classroom_class_group.columns"
      ],
      "metadata": {
        "id": "3PwQwv57Wdth"
      },
      "execution_count": null,
      "outputs": []
    },
    {
      "cell_type": "code",
      "source": [],
      "metadata": {
        "id": "Og6v2GnIWdv7"
      },
      "execution_count": null,
      "outputs": []
    },
    {
      "cell_type": "code",
      "source": [],
      "metadata": {
        "id": "E7t-bpcXWdyl"
      },
      "execution_count": null,
      "outputs": []
    },
    {
      "cell_type": "code",
      "source": [],
      "metadata": {
        "id": "gy2j8KY1Wd0e"
      },
      "execution_count": null,
      "outputs": []
    },
    {
      "cell_type": "code",
      "source": [],
      "metadata": {
        "id": "COfLcxqpWd35"
      },
      "execution_count": null,
      "outputs": []
    },
    {
      "cell_type": "code",
      "source": [
        "temp=lesson_subject_teacher_daysdef_classroom_class_group.groupby('teachername').first()\n",
        "temp"
      ],
      "metadata": {
        "id": "sFg1rQ-vZ_st"
      },
      "execution_count": null,
      "outputs": []
    },
    {
      "cell_type": "code",
      "source": [
        "temp.columns"
      ],
      "metadata": {
        "id": "B1W45OLUflVM"
      },
      "execution_count": null,
      "outputs": []
    },
    {
      "cell_type": "code",
      "source": [],
      "metadata": {
        "id": "hR_2B12mflXo"
      },
      "execution_count": null,
      "outputs": []
    },
    {
      "cell_type": "code",
      "source": [
        "n_temp=temp[['teacherids', 'lessonid', 'periodsperweek', 'classroomids_x', 'subjectname', 'color', 'daysdefname', 'classroomname',  'classname', 'groupname']]\n",
        "n_temp"
      ],
      "metadata": {
        "colab": {
          "base_uri": "https://localhost:8080/",
          "height": 571
        },
        "id": "QklocNDpflaa",
        "outputId": "89cefd9b-c2cd-4576-bbe1-bf40d3589565"
      },
      "execution_count": 54,
      "outputs": [
        {
          "output_type": "execute_result",
          "data": {
            "text/plain": [
              "                   teacherids          lessonid periodsperweek  \\\n",
              "teachername                                                      \n",
              "ADS          6D874C799038D659  AAF51A9926D3A523            2.0   \n",
              "AGD          E5D1E808C87FB80D  E9DE162F33F1C6DC            2.0   \n",
              "ANP-EC       CAEA975DABA87BE6  C2E61B75B2A67D23            2.0   \n",
              "APM-EC       DBA91E64158EE918  6C8741C258910EC8            4.0   \n",
              "BHS-EC       9AC6A7D698144A27  B81526E865F77F04            2.0   \n",
              "...                       ...               ...            ...   \n",
              "UCP-EC       E25EF31B84047080  1A5658614EEC7ECB            2.0   \n",
              "VKP-EC       769C2781E6C54B66  C5669B9BBB6599BB            1.0   \n",
              "VRP          9D7248011F51EF80  04F93E3CF200F84F            2.0   \n",
              "YJP          740A318D213A20D4  CB020B224A01ADB4            2.0   \n",
              "ZJP          D0EA7A1C8688E2C9  16AABE074CB87DF6            2.0   \n",
              "\n",
              "                                                classroomids_x  \\\n",
              "teachername                                                      \n",
              "ADS          67EC1C0F87EDB2E6,CDD41557571C8CE3,ACFEECED15D9...   \n",
              "AGD          67EC1C0F87EDB2E6,CDD41557571C8CE3,ACFEECED15D9...   \n",
              "ANP-EC       7D659EAEFE11DFE3,13013015DC4F5773,52B8BEB26E93...   \n",
              "APM-EC                                        9A225F6F5FF8ABE9   \n",
              "BHS-EC       7D659EAEFE11DFE3,13013015DC4F5773,52B8BEB26E93...   \n",
              "...                                                        ...   \n",
              "UCP-EC       67EC1C0F87EDB2E6,7A02C95971BE4B7E,ACFEECED15D9...   \n",
              "VKP-EC       7D659EAEFE11DFE3,13013015DC4F5773,52B8BEB26E93...   \n",
              "VRP          7D659EAEFE11DFE3,52B8BEB26E93A51C,FF00B519A689...   \n",
              "YJP          67EC1C0F87EDB2E6,4DF10F4CA4D1D011,ACFEECED15D9...   \n",
              "ZJP          67EC1C0F87EDB2E6,4DF10F4CA4D1D011,ACFEECED15D9...   \n",
              "\n",
              "                   subjectname    color daysdefname classroomname classname  \\\n",
              "teachername                                                                   \n",
              "ADS               2CEIT601:TOC  #00FFFF     Any day          None   6CEIT-C   \n",
              "AGD               2CEIT403:ADT  #FFCCFF     Any day          None   4CEIT-B   \n",
              "ANP-EC         2CSBS4105:DT-CS  #B0BCF9     Any day          None     4CSBS   \n",
              "APM-EC           2CEIT6PE8:ITM  #808000     Any day   NBSF209_SEM   2CEIT-D   \n",
              "BHS-EC       2CSBS4107:MRMM-CS  #CCCCFF     Any day          None     4CSBS   \n",
              "...                        ...      ...         ...           ...       ...   \n",
              "UCP-EC         2CSBS4101:OS-CS  #800080     Any day          None     4CSBS   \n",
              "VKP-EC         2CSBS4105:DT-CS  #FF0000     Any day          None     4CSBS   \n",
              "VRP             2CEIT6PE4:DSML  #99FF66     Any day      NBGF005A   6CEIT-A   \n",
              "YJP               2CEIT403:ADT  #33CC33     Any day          None   4CEIT-B   \n",
              "ZJP               2CEIT604:UED  #C0FFA0     Any day      PG-CLASS   6CEIT-C   \n",
              "\n",
              "                groupname  \n",
              "teachername                \n",
              "ADS                 6AB12  \n",
              "AGD                  4AB7  \n",
              "ANP-EC       Entire class  \n",
              "APM-EC              2AB11  \n",
              "BHS-EC       Entire class  \n",
              "...                   ...  \n",
              "UCP-EC              4AB20  \n",
              "VKP-EC       Entire class  \n",
              "VRP                  6AB3  \n",
              "YJP                  4AB7  \n",
              "ZJP                 6AB11  \n",
              "\n",
              "[63 rows x 10 columns]"
            ],
            "text/html": [
              "\n",
              "  <div id=\"df-f69103d2-a0f6-43a7-a6ce-ccc305cb9d9a\">\n",
              "    <div class=\"colab-df-container\">\n",
              "      <div>\n",
              "<style scoped>\n",
              "    .dataframe tbody tr th:only-of-type {\n",
              "        vertical-align: middle;\n",
              "    }\n",
              "\n",
              "    .dataframe tbody tr th {\n",
              "        vertical-align: top;\n",
              "    }\n",
              "\n",
              "    .dataframe thead th {\n",
              "        text-align: right;\n",
              "    }\n",
              "</style>\n",
              "<table border=\"1\" class=\"dataframe\">\n",
              "  <thead>\n",
              "    <tr style=\"text-align: right;\">\n",
              "      <th></th>\n",
              "      <th>teacherids</th>\n",
              "      <th>lessonid</th>\n",
              "      <th>periodsperweek</th>\n",
              "      <th>classroomids_x</th>\n",
              "      <th>subjectname</th>\n",
              "      <th>color</th>\n",
              "      <th>daysdefname</th>\n",
              "      <th>classroomname</th>\n",
              "      <th>classname</th>\n",
              "      <th>groupname</th>\n",
              "    </tr>\n",
              "    <tr>\n",
              "      <th>teachername</th>\n",
              "      <th></th>\n",
              "      <th></th>\n",
              "      <th></th>\n",
              "      <th></th>\n",
              "      <th></th>\n",
              "      <th></th>\n",
              "      <th></th>\n",
              "      <th></th>\n",
              "      <th></th>\n",
              "      <th></th>\n",
              "    </tr>\n",
              "  </thead>\n",
              "  <tbody>\n",
              "    <tr>\n",
              "      <th>ADS</th>\n",
              "      <td>6D874C799038D659</td>\n",
              "      <td>AAF51A9926D3A523</td>\n",
              "      <td>2.0</td>\n",
              "      <td>67EC1C0F87EDB2E6,CDD41557571C8CE3,ACFEECED15D9...</td>\n",
              "      <td>2CEIT601:TOC</td>\n",
              "      <td>#00FFFF</td>\n",
              "      <td>Any day</td>\n",
              "      <td>None</td>\n",
              "      <td>6CEIT-C</td>\n",
              "      <td>6AB12</td>\n",
              "    </tr>\n",
              "    <tr>\n",
              "      <th>AGD</th>\n",
              "      <td>E5D1E808C87FB80D</td>\n",
              "      <td>E9DE162F33F1C6DC</td>\n",
              "      <td>2.0</td>\n",
              "      <td>67EC1C0F87EDB2E6,CDD41557571C8CE3,ACFEECED15D9...</td>\n",
              "      <td>2CEIT403:ADT</td>\n",
              "      <td>#FFCCFF</td>\n",
              "      <td>Any day</td>\n",
              "      <td>None</td>\n",
              "      <td>4CEIT-B</td>\n",
              "      <td>4AB7</td>\n",
              "    </tr>\n",
              "    <tr>\n",
              "      <th>ANP-EC</th>\n",
              "      <td>CAEA975DABA87BE6</td>\n",
              "      <td>C2E61B75B2A67D23</td>\n",
              "      <td>2.0</td>\n",
              "      <td>7D659EAEFE11DFE3,13013015DC4F5773,52B8BEB26E93...</td>\n",
              "      <td>2CSBS4105:DT-CS</td>\n",
              "      <td>#B0BCF9</td>\n",
              "      <td>Any day</td>\n",
              "      <td>None</td>\n",
              "      <td>4CSBS</td>\n",
              "      <td>Entire class</td>\n",
              "    </tr>\n",
              "    <tr>\n",
              "      <th>APM-EC</th>\n",
              "      <td>DBA91E64158EE918</td>\n",
              "      <td>6C8741C258910EC8</td>\n",
              "      <td>4.0</td>\n",
              "      <td>9A225F6F5FF8ABE9</td>\n",
              "      <td>2CEIT6PE8:ITM</td>\n",
              "      <td>#808000</td>\n",
              "      <td>Any day</td>\n",
              "      <td>NBSF209_SEM</td>\n",
              "      <td>2CEIT-D</td>\n",
              "      <td>2AB11</td>\n",
              "    </tr>\n",
              "    <tr>\n",
              "      <th>BHS-EC</th>\n",
              "      <td>9AC6A7D698144A27</td>\n",
              "      <td>B81526E865F77F04</td>\n",
              "      <td>2.0</td>\n",
              "      <td>7D659EAEFE11DFE3,13013015DC4F5773,52B8BEB26E93...</td>\n",
              "      <td>2CSBS4107:MRMM-CS</td>\n",
              "      <td>#CCCCFF</td>\n",
              "      <td>Any day</td>\n",
              "      <td>None</td>\n",
              "      <td>4CSBS</td>\n",
              "      <td>Entire class</td>\n",
              "    </tr>\n",
              "    <tr>\n",
              "      <th>...</th>\n",
              "      <td>...</td>\n",
              "      <td>...</td>\n",
              "      <td>...</td>\n",
              "      <td>...</td>\n",
              "      <td>...</td>\n",
              "      <td>...</td>\n",
              "      <td>...</td>\n",
              "      <td>...</td>\n",
              "      <td>...</td>\n",
              "      <td>...</td>\n",
              "    </tr>\n",
              "    <tr>\n",
              "      <th>UCP-EC</th>\n",
              "      <td>E25EF31B84047080</td>\n",
              "      <td>1A5658614EEC7ECB</td>\n",
              "      <td>2.0</td>\n",
              "      <td>67EC1C0F87EDB2E6,7A02C95971BE4B7E,ACFEECED15D9...</td>\n",
              "      <td>2CSBS4101:OS-CS</td>\n",
              "      <td>#800080</td>\n",
              "      <td>Any day</td>\n",
              "      <td>None</td>\n",
              "      <td>4CSBS</td>\n",
              "      <td>4AB20</td>\n",
              "    </tr>\n",
              "    <tr>\n",
              "      <th>VKP-EC</th>\n",
              "      <td>769C2781E6C54B66</td>\n",
              "      <td>C5669B9BBB6599BB</td>\n",
              "      <td>1.0</td>\n",
              "      <td>7D659EAEFE11DFE3,13013015DC4F5773,52B8BEB26E93...</td>\n",
              "      <td>2CSBS4105:DT-CS</td>\n",
              "      <td>#FF0000</td>\n",
              "      <td>Any day</td>\n",
              "      <td>None</td>\n",
              "      <td>4CSBS</td>\n",
              "      <td>Entire class</td>\n",
              "    </tr>\n",
              "    <tr>\n",
              "      <th>VRP</th>\n",
              "      <td>9D7248011F51EF80</td>\n",
              "      <td>04F93E3CF200F84F</td>\n",
              "      <td>2.0</td>\n",
              "      <td>7D659EAEFE11DFE3,52B8BEB26E93A51C,FF00B519A689...</td>\n",
              "      <td>2CEIT6PE4:DSML</td>\n",
              "      <td>#99FF66</td>\n",
              "      <td>Any day</td>\n",
              "      <td>NBGF005A</td>\n",
              "      <td>6CEIT-A</td>\n",
              "      <td>6AB3</td>\n",
              "    </tr>\n",
              "    <tr>\n",
              "      <th>YJP</th>\n",
              "      <td>740A318D213A20D4</td>\n",
              "      <td>CB020B224A01ADB4</td>\n",
              "      <td>2.0</td>\n",
              "      <td>67EC1C0F87EDB2E6,4DF10F4CA4D1D011,ACFEECED15D9...</td>\n",
              "      <td>2CEIT403:ADT</td>\n",
              "      <td>#33CC33</td>\n",
              "      <td>Any day</td>\n",
              "      <td>None</td>\n",
              "      <td>4CEIT-B</td>\n",
              "      <td>4AB7</td>\n",
              "    </tr>\n",
              "    <tr>\n",
              "      <th>ZJP</th>\n",
              "      <td>D0EA7A1C8688E2C9</td>\n",
              "      <td>16AABE074CB87DF6</td>\n",
              "      <td>2.0</td>\n",
              "      <td>67EC1C0F87EDB2E6,4DF10F4CA4D1D011,ACFEECED15D9...</td>\n",
              "      <td>2CEIT604:UED</td>\n",
              "      <td>#C0FFA0</td>\n",
              "      <td>Any day</td>\n",
              "      <td>PG-CLASS</td>\n",
              "      <td>6CEIT-C</td>\n",
              "      <td>6AB11</td>\n",
              "    </tr>\n",
              "  </tbody>\n",
              "</table>\n",
              "<p>63 rows × 10 columns</p>\n",
              "</div>\n",
              "      <button class=\"colab-df-convert\" onclick=\"convertToInteractive('df-f69103d2-a0f6-43a7-a6ce-ccc305cb9d9a')\"\n",
              "              title=\"Convert this dataframe to an interactive table.\"\n",
              "              style=\"display:none;\">\n",
              "        \n",
              "  <svg xmlns=\"http://www.w3.org/2000/svg\" height=\"24px\"viewBox=\"0 0 24 24\"\n",
              "       width=\"24px\">\n",
              "    <path d=\"M0 0h24v24H0V0z\" fill=\"none\"/>\n",
              "    <path d=\"M18.56 5.44l.94 2.06.94-2.06 2.06-.94-2.06-.94-.94-2.06-.94 2.06-2.06.94zm-11 1L8.5 8.5l.94-2.06 2.06-.94-2.06-.94L8.5 2.5l-.94 2.06-2.06.94zm10 10l.94 2.06.94-2.06 2.06-.94-2.06-.94-.94-2.06-.94 2.06-2.06.94z\"/><path d=\"M17.41 7.96l-1.37-1.37c-.4-.4-.92-.59-1.43-.59-.52 0-1.04.2-1.43.59L10.3 9.45l-7.72 7.72c-.78.78-.78 2.05 0 2.83L4 21.41c.39.39.9.59 1.41.59.51 0 1.02-.2 1.41-.59l7.78-7.78 2.81-2.81c.8-.78.8-2.07 0-2.86zM5.41 20L4 18.59l7.72-7.72 1.47 1.35L5.41 20z\"/>\n",
              "  </svg>\n",
              "      </button>\n",
              "      \n",
              "  <style>\n",
              "    .colab-df-container {\n",
              "      display:flex;\n",
              "      flex-wrap:wrap;\n",
              "      gap: 12px;\n",
              "    }\n",
              "\n",
              "    .colab-df-convert {\n",
              "      background-color: #E8F0FE;\n",
              "      border: none;\n",
              "      border-radius: 50%;\n",
              "      cursor: pointer;\n",
              "      display: none;\n",
              "      fill: #1967D2;\n",
              "      height: 32px;\n",
              "      padding: 0 0 0 0;\n",
              "      width: 32px;\n",
              "    }\n",
              "\n",
              "    .colab-df-convert:hover {\n",
              "      background-color: #E2EBFA;\n",
              "      box-shadow: 0px 1px 2px rgba(60, 64, 67, 0.3), 0px 1px 3px 1px rgba(60, 64, 67, 0.15);\n",
              "      fill: #174EA6;\n",
              "    }\n",
              "\n",
              "    [theme=dark] .colab-df-convert {\n",
              "      background-color: #3B4455;\n",
              "      fill: #D2E3FC;\n",
              "    }\n",
              "\n",
              "    [theme=dark] .colab-df-convert:hover {\n",
              "      background-color: #434B5C;\n",
              "      box-shadow: 0px 1px 3px 1px rgba(0, 0, 0, 0.15);\n",
              "      filter: drop-shadow(0px 1px 2px rgba(0, 0, 0, 0.3));\n",
              "      fill: #FFFFFF;\n",
              "    }\n",
              "  </style>\n",
              "\n",
              "      <script>\n",
              "        const buttonEl =\n",
              "          document.querySelector('#df-f69103d2-a0f6-43a7-a6ce-ccc305cb9d9a button.colab-df-convert');\n",
              "        buttonEl.style.display =\n",
              "          google.colab.kernel.accessAllowed ? 'block' : 'none';\n",
              "\n",
              "        async function convertToInteractive(key) {\n",
              "          const element = document.querySelector('#df-f69103d2-a0f6-43a7-a6ce-ccc305cb9d9a');\n",
              "          const dataTable =\n",
              "            await google.colab.kernel.invokeFunction('convertToInteractive',\n",
              "                                                     [key], {});\n",
              "          if (!dataTable) return;\n",
              "\n",
              "          const docLinkHtml = 'Like what you see? Visit the ' +\n",
              "            '<a target=\"_blank\" href=https://colab.research.google.com/notebooks/data_table.ipynb>data table notebook</a>'\n",
              "            + ' to learn more about interactive tables.';\n",
              "          element.innerHTML = '';\n",
              "          dataTable['output_type'] = 'display_data';\n",
              "          await google.colab.output.renderOutput(dataTable, element);\n",
              "          const docLink = document.createElement('div');\n",
              "          docLink.innerHTML = docLinkHtml;\n",
              "          element.appendChild(docLink);\n",
              "        }\n",
              "      </script>\n",
              "    </div>\n",
              "  </div>\n",
              "  "
            ]
          },
          "metadata": {},
          "execution_count": 54
        }
      ]
    },
    {
      "cell_type": "code",
      "source": [],
      "metadata": {
        "id": "xPpWCfwiflcr"
      },
      "execution_count": null,
      "outputs": []
    },
    {
      "cell_type": "code",
      "source": [],
      "metadata": {
        "id": "om_WaUJAflff"
      },
      "execution_count": null,
      "outputs": []
    },
    {
      "cell_type": "code",
      "source": [],
      "metadata": {
        "id": "vv-chMVVflhg"
      },
      "execution_count": null,
      "outputs": []
    },
    {
      "cell_type": "code",
      "source": [],
      "metadata": {
        "id": "T1Cr5kbqflkG"
      },
      "execution_count": null,
      "outputs": []
    },
    {
      "cell_type": "code",
      "source": [],
      "metadata": {
        "id": "LxTyrkoiflmk"
      },
      "execution_count": null,
      "outputs": []
    },
    {
      "cell_type": "code",
      "source": [],
      "metadata": {
        "id": "OS0qwQk6flpB"
      },
      "execution_count": null,
      "outputs": []
    },
    {
      "cell_type": "code",
      "source": [],
      "metadata": {
        "id": "toZ64k7pflrT"
      },
      "execution_count": null,
      "outputs": []
    },
    {
      "cell_type": "code",
      "source": [
        "n_temp.to_excel('output.xlsx')"
      ],
      "metadata": {
        "id": "riyGcr2QZ_ub"
      },
      "execution_count": null,
      "outputs": []
    },
    {
      "cell_type": "code",
      "source": [],
      "metadata": {
        "id": "QlON_VNWZ_xY"
      },
      "execution_count": null,
      "outputs": []
    },
    {
      "cell_type": "code",
      "source": [],
      "metadata": {
        "id": "8j6BpF5VZ_zr"
      },
      "execution_count": null,
      "outputs": []
    },
    {
      "cell_type": "code",
      "source": [],
      "metadata": {
        "id": "N9ahAqGcZ_1x"
      },
      "execution_count": null,
      "outputs": []
    },
    {
      "cell_type": "code",
      "source": [],
      "metadata": {
        "id": "n4dNPB-wZ_3s"
      },
      "execution_count": null,
      "outputs": []
    },
    {
      "cell_type": "code",
      "source": [],
      "metadata": {
        "id": "ykassiNQZ_5q"
      },
      "execution_count": null,
      "outputs": []
    },
    {
      "cell_type": "code",
      "source": [],
      "metadata": {
        "id": "R2ntHv4fZ_78"
      },
      "execution_count": null,
      "outputs": []
    },
    {
      "cell_type": "code",
      "source": [],
      "metadata": {
        "id": "usYTcWwcZ_-g"
      },
      "execution_count": null,
      "outputs": []
    },
    {
      "cell_type": "code",
      "source": [],
      "metadata": {
        "id": "Evd8OV1iaAAY"
      },
      "execution_count": null,
      "outputs": []
    },
    {
      "cell_type": "code",
      "source": [],
      "metadata": {
        "id": "ZrpDU8iYaACZ"
      },
      "execution_count": null,
      "outputs": []
    },
    {
      "cell_type": "code",
      "source": [],
      "metadata": {
        "id": "Vu9VB-t4aAEY"
      },
      "execution_count": null,
      "outputs": []
    },
    {
      "cell_type": "code",
      "source": [],
      "metadata": {
        "id": "VMi7jNctaAGi"
      },
      "execution_count": null,
      "outputs": []
    },
    {
      "cell_type": "code",
      "source": [],
      "metadata": {
        "id": "MmbkeZMUaAI0"
      },
      "execution_count": null,
      "outputs": []
    },
    {
      "cell_type": "code",
      "source": [],
      "metadata": {
        "id": "9IE4QcjiY92f"
      },
      "execution_count": null,
      "outputs": []
    }
  ]
}