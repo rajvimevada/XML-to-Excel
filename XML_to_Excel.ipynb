{
  "nbformat": 4,
  "nbformat_minor": 0,
  "metadata": {
    "colab": {
      "provenance": [],
      "authorship_tag": "ABX9TyOyV8BHntOzymLmalKtQL+n",
      "include_colab_link": true
    },
    "kernelspec": {
      "name": "python3",
      "display_name": "Python 3"
    },
    "language_info": {
      "name": "python"
    }
  },
  "cells": [
    {
      "cell_type": "markdown",
      "metadata": {
        "id": "view-in-github",
        "colab_type": "text"
      },
      "source": [
        "<a href=\"https://colab.research.google.com/github/rajvimevada/XML-to-Excel/blob/main/XML_to_Excel.ipynb\" target=\"_parent\"><img src=\"https://colab.research.google.com/assets/colab-badge.svg\" alt=\"Open In Colab\"/></a>"
      ]
    },
    {
      "cell_type": "code",
      "source": [
        "import pandas as pd\n",
        "import xml.etree.ElementTree as ET\n",
        "\n",
        "def parse_timetable(xml_file):\n",
        "    tree = ET.parse(xml_file)\n",
        "    root = tree.getroot()\n",
        "\n",
        "    faculty_timetable = {}\n",
        "    class_timetable = {}\n",
        "\n",
        "    for teacher in root.findall(\"./teachers/teacher\"):\n",
        "        teacher_id = teacher.attrib.get(\"id\", \"\")\n",
        "        teacher_name = teacher.attrib.get(\"name\", \"\")\n",
        "        if teacher_id:\n",
        "            faculty_timetable[teacher_id] = []\n",
        "\n",
        "    for lesson in root.findall(\"./lessons/lesson\"):\n",
        "        teacher_ids = lesson.attrib.get(\"teacherids\", \"\").split()\n",
        "        classroom_ids = lesson.attrib.get(\"classroomids\", \"\").split()\n",
        "        subject_id = lesson.attrib.get(\"subjectid\", \"\")\n",
        "\n",
        "        if subject_id:\n",
        "            for teacher_id in teacher_ids:\n",
        "                if teacher_id:\n",
        "                    if teacher_id not in faculty_timetable:\n",
        "                        faculty_timetable[teacher_id] = []\n",
        "                    faculty_timetable[teacher_id].append(lesson.attrib)\n",
        "\n",
        "            for classroom_id in classroom_ids:\n",
        "                if classroom_id:\n",
        "                    if classroom_id not in class_timetable:\n",
        "                        class_timetable[classroom_id] = []\n",
        "                    class_timetable[classroom_id].append(lesson.attrib)\n",
        "\n",
        "\n",
        "    print(\"faculty_timetable:\")\n",
        "    for key, value in faculty_timetable.items():\n",
        "        print(key, value)\n",
        "\n",
        "\n",
        "    print(\"class_timetable:\")\n",
        "    for key, value in class_timetable.items():\n",
        "        print(key, value)\n",
        "\n",
        "    # Create Excel file\n",
        "#     excel_file = \"output.xlsx\"\n",
        "#     writer = pd.ExcelWriter(excel_file, engine=\"xlsxwriter\")\n",
        "\n",
        "    # Iterate over faculty timetable\n",
        "    for teacher_id, timetable in faculty_timetable.items():\n",
        "        if timetable:\n",
        "            teacher_element = root.find(f\"./teachers/teacher[@id='{teacher_id}']\")\n",
        "            teacher_name = teacher_element.attrib.get(\"name\", \"\") if teacher_element is not None else \"\"\n",
        "            df = pd.DataFrame(timetable)\n",
        "            #print(df)\n",
        "\n",
        "#             df.to_excel(writer, sheet_name=teacher_name, index=False)\n",
        "\n",
        "#     # Save and close the Excel file\n",
        "#     writer.save()\n",
        "#     writer.close()\n",
        "\n",
        "ifile = \"inputxmlFile.xml\"\n",
        "parse_timetable(ifile)\n"
      ],
      "metadata": {
        "id": "_Tl1Bb8TiCmr"
      },
      "execution_count": null,
      "outputs": []
    }
  ]
}